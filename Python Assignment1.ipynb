{
 "cells": [
  {
   "cell_type": "markdown",
   "metadata": {},
   "source": [
    "## String"
   ]
  },
  {
   "cell_type": "code",
   "execution_count": 15,
   "metadata": {},
   "outputs": [],
   "source": [
    "mystring=\"I am very keen in building up my career in Data Science, but not sure from where to start. If I search the web it throws me thousands of articles, few are relevant others make me confused, again I come around to the same page. Supervised has provided me a good platform to remove all such qualms which were wrangling in my mind\""
   ]
  },
  {
   "cell_type": "code",
   "execution_count": 2,
   "metadata": {},
   "outputs": [
    {
     "data": {
      "text/plain": [
       "327"
      ]
     },
     "execution_count": 2,
     "metadata": {},
     "output_type": "execute_result"
    }
   ],
   "source": [
    "#Length\n",
    "len(mystring)"
   ]
  },
  {
   "cell_type": "code",
   "execution_count": 3,
   "metadata": {},
   "outputs": [
    {
     "data": {
      "text/plain": [
       "'i am very keen in building up my career in data science, but not sure from where to start. if i search the web it throws me thousands of articles, few are relevant others make me confused, again i come around to the same page. supervised has provided me a good platform to remove all such qualms which were wrangling in my mind'"
      ]
     },
     "execution_count": 3,
     "metadata": {},
     "output_type": "execute_result"
    }
   ],
   "source": [
    "#lower\n",
    "mystring.lower()"
   ]
  },
  {
   "cell_type": "code",
   "execution_count": 4,
   "metadata": {},
   "outputs": [
    {
     "name": "stdout",
     "output_type": "stream",
     "text": [
      "I am very keen in building up my career in Data Science but not sure from where to start If I search the web it throws me thousands of articles few are relevant others make me confused again I come around to the same page Supervised has provided me a good platform to remove all such qualms which were wrangling in my mind\n"
     ]
    }
   ],
   "source": [
    "# Remove punctuation\n",
    "import string\n",
    "def punct(sentence):\n",
    "    mystr=\"\"\n",
    "    for char in sentence:\n",
    "        if char not in string.punctuation:\n",
    "            mystr += char\n",
    "        else:\n",
    "            pass\n",
    "    return mystr\n",
    "mystring=punct(mystring)\n",
    "print(mystring)"
   ]
  },
  {
   "cell_type": "code",
   "execution_count": 5,
   "metadata": {},
   "outputs": [
    {
     "name": "stdout",
     "output_type": "stream",
     "text": [
      "Data Science\n"
     ]
    }
   ],
   "source": [
    "#Pattern\n",
    "import re\n",
    "regex=re.compile(\"Data Science\")\n",
    "for m in regex.finditer(mystring):\n",
    "                 print(m.group())"
   ]
  },
  {
   "cell_type": "code",
   "execution_count": 6,
   "metadata": {},
   "outputs": [
    {
     "name": "stdout",
     "output_type": "stream",
     "text": [
      "Data Science\n"
     ]
    }
   ],
   "source": [
    "print(re.search('Data Science',mystring).group())"
   ]
  },
  {
   "cell_type": "code",
   "execution_count": 7,
   "metadata": {},
   "outputs": [
    {
     "name": "stdout",
     "output_type": "stream",
     "text": [
      "{'I': 3, 'am': 1, 'very': 1, 'keen': 1, 'in': 3, 'building': 1, 'up': 1, 'my': 2, 'career': 1, 'Data': 1, 'Science': 1, 'but': 1, 'not': 1, 'sure': 1, 'from': 1, 'where': 1, 'to': 3, 'start': 1, 'If': 1, 'search': 1, 'the': 2, 'web': 1, 'it': 1, 'throws': 1, 'me': 3, 'thousands': 1, 'of': 1, 'articles': 1, 'few': 1, 'are': 1, 'relevant': 1, 'others': 1, 'make': 1, 'confused': 1, 'again': 1, 'come': 1, 'around': 1, 'same': 1, 'page': 1, 'Supervised': 1, 'has': 1, 'provided': 1, 'a': 1, 'good': 1, 'platform': 1, 'remove': 1, 'all': 1, 'such': 1, 'qualms': 1, 'which': 1, 'were': 1, 'wrangling': 1, 'mind': 1}\n"
     ]
    }
   ],
   "source": [
    "#Frequency of words\n",
    "words=[]\n",
    "words=mystring.split()\n",
    "wordfreq=[words.count(w) for w in words]\n",
    "print(dict(zip(words,wordfreq)))\n"
   ]
  },
  {
   "cell_type": "code",
   "execution_count": 11,
   "metadata": {},
   "outputs": [
    {
     "name": "stdout",
     "output_type": "stream",
     "text": [
      "I\n",
      "in\n",
      "my\n",
      "to\n",
      "the\n",
      "me\n"
     ]
    }
   ],
   "source": [
    "#Print words occuring more than once\n",
    "wrdlist=dict(zip(words,wordfreq))\n",
    "for key in wrdlist:\n",
    "    if wrdlist[key]>1:\n",
    "        print(key)"
   ]
  },
  {
   "cell_type": "code",
   "execution_count": 18,
   "metadata": {},
   "outputs": [
    {
     "name": "stdout",
     "output_type": "stream",
     "text": [
      "I am very keen in building up my career in Data Science, but not sure from where to start. If I search the web it throws me thousands of articles, few are relevant others make me confused, again I come around to the same page. Unsupervised has provided me a good platform to remove all such qualms which were wrangling in my mind\n"
     ]
    }
   ],
   "source": [
    "#Replace supervised with unsupervised\n",
    "print(mystring.replace(\"Supervised\",\"Unsupervised\"))"
   ]
  },
  {
   "cell_type": "code",
   "execution_count": 36,
   "metadata": {},
   "outputs": [
    {
     "name": "stdout",
     "output_type": "stream",
     "text": [
      "['I am very keen in building up my career in Data Science, but not sure from where to start', ' If I search the web it throws me thousands of articles, few are relevant others make me confused, again I come around to the same page', ' Supervised has provided me a good platform to remove all such qualms which were wrangling in my mind']\n"
     ]
    }
   ],
   "source": [
    "# Split with . operator\n",
    "print(mystring.split('.'))"
   ]
  },
  {
   "cell_type": "code",
   "execution_count": 34,
   "metadata": {},
   "outputs": [
    {
     "name": "stdout",
     "output_type": "stream",
     "text": [
      "words ending with the letter 'e'  ['sure', 'where', 'the', 'me', 'are', 'make', 'me', 'come', 'the', 'same', 'me', 'remove', 'were']\n"
     ]
    }
   ],
   "source": [
    "# words from the string which ends with \"e\"\n",
    "mstrng=mystring.split()\n",
    "mylist=[x for x in mstrng if x[-1]=='e']\n",
    "print(\"words ending with the letter 'e' \",mylist)"
   ]
  },
  {
   "cell_type": "code",
   "execution_count": 32,
   "metadata": {},
   "outputs": [
    {
     "name": "stdout",
     "output_type": "stream",
     "text": [
      "Number of a's used in the string is  22\n"
     ]
    }
   ],
   "source": [
    "# no of a's used\n",
    "count=0\n",
    "for l in mystring:\n",
    "    if l in 'aA':\n",
    "        count+=1\n",
    "else:\n",
    "    print(\"Number of a's used in the string is \",count)"
   ]
  },
  {
   "cell_type": "markdown",
   "metadata": {},
   "source": [
    "## Dictionary"
   ]
  },
  {
   "cell_type": "code",
   "execution_count": 51,
   "metadata": {},
   "outputs": [
    {
     "data": {
      "text/plain": [
       "{'apple': 0.25, 'sugar': 0.5, 'rice': 2.5, 'milk': 2.5, 'egg': 1}"
      ]
     },
     "execution_count": 51,
     "metadata": {},
     "output_type": "execute_result"
    }
   ],
   "source": [
    "mydict={\"apple\":0.25,\"sugar\":0.5,\"rice\":2.5,\"milk\":2.5,\"egg\":1}\n",
    "mydict"
   ]
  },
  {
   "cell_type": "code",
   "execution_count": 52,
   "metadata": {},
   "outputs": [
    {
     "data": {
      "text/plain": [
       "{'apple': 0.25, 'sugar': 0.5, 'rice': 2.5, 'milk': 2.5, 'egg': 1, 'atta': 1}"
      ]
     },
     "execution_count": 52,
     "metadata": {},
     "output_type": "execute_result"
    }
   ],
   "source": [
    "mydict[\"atta\"]=1\n",
    "mydict"
   ]
  },
  {
   "cell_type": "code",
   "execution_count": 53,
   "metadata": {},
   "outputs": [
    {
     "data": {
      "text/plain": [
       "{'apple': 0.25, 'sugar': 0.5, 'rice': 1, 'milk': 2.5, 'egg': 1, 'atta': 1}"
      ]
     },
     "execution_count": 53,
     "metadata": {},
     "output_type": "execute_result"
    }
   ],
   "source": [
    "mydict[\"rice\"]=1\n",
    "mydict"
   ]
  },
  {
   "cell_type": "code",
   "execution_count": 54,
   "metadata": {},
   "outputs": [
    {
     "name": "stdout",
     "output_type": "stream",
     "text": [
      "apple 0.25\n",
      "sugar 0.5\n",
      "rice 1\n",
      "milk 2.5\n",
      "egg 1\n",
      "atta 1\n"
     ]
    }
   ],
   "source": [
    "for x,y in mydict.items():\n",
    "    print(x,y)"
   ]
  },
  {
   "cell_type": "code",
   "execution_count": 55,
   "metadata": {},
   "outputs": [
    {
     "data": {
      "text/plain": [
       "{'apple': 220, 'sugar': 43, 'rice': 45, 'milk': 30, 'egg': 60}"
      ]
     },
     "execution_count": 55,
     "metadata": {},
     "output_type": "execute_result"
    }
   ],
   "source": [
    "pricing={\"apple\":220,\"sugar\":43,\"rice\":45,\"milk\":30,\"egg\":60}\n",
    "pricing"
   ]
  },
  {
   "cell_type": "code",
   "execution_count": 62,
   "metadata": {},
   "outputs": [
    {
     "data": {
      "text/plain": [
       "{'apple': 55.0, 'sugar': 21.5, 'rice': 45, 'milk': 75.0, 'egg': 60}"
      ]
     },
     "execution_count": 62,
     "metadata": {},
     "output_type": "execute_result"
    }
   ],
   "source": [
    "indiv_cost_dict={k:mydict[k]*pricing[k] for k in pricing}\n",
    "indiv_cost_dict"
   ]
  },
  {
   "cell_type": "code",
   "execution_count": 59,
   "metadata": {},
   "outputs": [
    {
     "name": "stdout",
     "output_type": "stream",
     "text": [
      "Total Price of groceries without Atta is  256.5\n"
     ]
    }
   ],
   "source": [
    "def cal_total():\n",
    "    Total=0\n",
    "    for k in pricing:\n",
    "        Total+=mydict[k]*pricing[k]\n",
    "    return Total\n",
    "\n",
    "Total_cost=cal_total()\n",
    "print(\"Total Price of groceries without Atta is \",Total_cost)"
   ]
  },
  {
   "cell_type": "markdown",
   "metadata": {},
   "source": [
    "## Lists"
   ]
  },
  {
   "cell_type": "code",
   "execution_count": 75,
   "metadata": {},
   "outputs": [
    {
     "name": "stdout",
     "output_type": "stream",
     "text": [
      "['Amazon', 'Facebook', 'HiSilicon', 'Google', 'Apple', 'Microsoft', 'SenseTime']\n"
     ]
    }
   ],
   "source": [
    "AI_Companies=['Amazon','Facebook','HiSilicon','Google','Apple','Microsoft','SenseTime']\n",
    "print(AI_Companies)"
   ]
  },
  {
   "cell_type": "code",
   "execution_count": 76,
   "metadata": {},
   "outputs": [],
   "source": [
    "AI_Companies.sort()"
   ]
  },
  {
   "cell_type": "code",
   "execution_count": 77,
   "metadata": {},
   "outputs": [
    {
     "data": {
      "text/plain": [
       "['Amazon',\n",
       " 'Apple',\n",
       " 'Facebook',\n",
       " 'Google',\n",
       " 'HiSilicon',\n",
       " 'Microsoft',\n",
       " 'SenseTime']"
      ]
     },
     "execution_count": 77,
     "metadata": {},
     "output_type": "execute_result"
    }
   ],
   "source": [
    "AI_Companies"
   ]
  },
  {
   "cell_type": "code",
   "execution_count": 78,
   "metadata": {},
   "outputs": [],
   "source": [
    "AI_Companies.extend(['Nvidia','OpenAI','Qualcomm','Reliance'])"
   ]
  },
  {
   "cell_type": "code",
   "execution_count": 79,
   "metadata": {},
   "outputs": [
    {
     "name": "stdout",
     "output_type": "stream",
     "text": [
      "['Amazon', 'Apple', 'Facebook', 'Google', 'HiSilicon', 'Microsoft', 'SenseTime', 'Nvidia', 'OpenAI', 'Qualcomm', 'Reliance']\n"
     ]
    }
   ],
   "source": [
    "print(AI_Companies)"
   ]
  },
  {
   "cell_type": "code",
   "execution_count": 84,
   "metadata": {},
   "outputs": [
    {
     "name": "stdout",
     "output_type": "stream",
     "text": [
      "['amazon', 'apple', 'facebook', 'google', 'hisilicon', 'microsoft', 'sensetime', 'nvidia', 'openai', 'qualcomm', 'reliance']\n"
     ]
    }
   ],
   "source": [
    "AI_Companies=[x.lower() for x in AI_Companies]\n",
    "print(AI_Companies)"
   ]
  },
  {
   "cell_type": "code",
   "execution_count": 85,
   "metadata": {},
   "outputs": [
    {
     "name": "stdout",
     "output_type": "stream",
     "text": [
      "['amazon', 'apple', 'facebook', 'google', 'hisilicon', 'microsoft', 'sensetime', 'nvidia', 'openai', 'qualcomm']\n"
     ]
    }
   ],
   "source": [
    "AI_Companies.remove(\"reliance\")\n",
    "print(AI_Companies)"
   ]
  },
  {
   "cell_type": "code",
   "execution_count": 92,
   "metadata": {},
   "outputs": [
    {
     "name": "stdout",
     "output_type": "stream",
     "text": [
      "['facebook', 'google', 'microsoft']\n"
     ]
    }
   ],
   "source": [
    "AI_Select=[]\n",
    "AI_Select=AI_Companies[2:4]+AI_Companies[5:6]\n",
    "print(AI_Select)"
   ]
  },
  {
   "cell_type": "markdown",
   "metadata": {},
   "source": [
    "## Tuple"
   ]
  },
  {
   "cell_type": "code",
   "execution_count": 93,
   "metadata": {},
   "outputs": [
    {
     "data": {
      "text/plain": [
       "(220, 43, 45, 30, 60)"
      ]
     },
     "execution_count": 93,
     "metadata": {},
     "output_type": "execute_result"
    }
   ],
   "source": [
    "price_tuple=(220,43,45,30,60)\n",
    "price_tuple"
   ]
  },
  {
   "cell_type": "code",
   "execution_count": 96,
   "metadata": {},
   "outputs": [
    {
     "name": "stdout",
     "output_type": "stream",
     "text": [
      "Maximum price is  220\n",
      "Minimum proce is  30\n"
     ]
    }
   ],
   "source": [
    "print(\"Maximum price is \",max(price_tuple))\n",
    "print(\"Minimum proce is \",min(price_tuple))"
   ]
  },
  {
   "cell_type": "code",
   "execution_count": 98,
   "metadata": {},
   "outputs": [
    {
     "name": "stdout",
     "output_type": "stream",
     "text": [
      "['amazon', 'apple', 'facebook', 'google', 'hisilicon', 'microsoft', 'sensetime', 'nvidia', 'openai', 'qualcomm']\n",
      "('amazon', 'apple', 'facebook', 'google', 'hisilicon', 'microsoft', 'sensetime', 'nvidia', 'openai', 'qualcomm')\n"
     ]
    }
   ],
   "source": [
    "print(AI_Companies)\n",
    "AI_tuple=tuple(AI_Companies)\n",
    "print(AI_tuple)"
   ]
  },
  {
   "cell_type": "code",
   "execution_count": 100,
   "metadata": {},
   "outputs": [
    {
     "name": "stdout",
     "output_type": "stream",
     "text": [
      "(220, 43, 45, 30, 60, 'amazon', 'apple', 'facebook', 'google', 'hisilicon', 'microsoft', 'sensetime', 'nvidia', 'openai', 'qualcomm')\n"
     ]
    }
   ],
   "source": [
    "print(price_tuple+AI_tuple)"
   ]
  },
  {
   "cell_type": "code",
   "execution_count": 102,
   "metadata": {},
   "outputs": [
    {
     "name": "stdout",
     "output_type": "stream",
     "text": [
      "AI_tuple has more length\n"
     ]
    }
   ],
   "source": [
    "if len(AI_tuple)>len(price_tuple):\n",
    "    print(\"AI_tuple has more length\")\n",
    "else:\n",
    "    print(\"price tuple has more length\")"
   ]
  },
  {
   "cell_type": "code",
   "execution_count": null,
   "metadata": {},
   "outputs": [],
   "source": []
  }
 ],
 "metadata": {
  "kernelspec": {
   "display_name": "Python 3",
   "language": "python",
   "name": "python3"
  },
  "language_info": {
   "codemirror_mode": {
    "name": "ipython",
    "version": 3
   },
   "file_extension": ".py",
   "mimetype": "text/x-python",
   "name": "python",
   "nbconvert_exporter": "python",
   "pygments_lexer": "ipython3",
   "version": "3.7.1"
  }
 },
 "nbformat": 4,
 "nbformat_minor": 2
}
