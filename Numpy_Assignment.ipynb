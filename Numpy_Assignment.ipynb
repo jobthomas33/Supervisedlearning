{
 "cells": [
  {
   "cell_type": "code",
   "execution_count": 119,
   "metadata": {},
   "outputs": [],
   "source": [
    "import numpy as np"
   ]
  },
  {
   "cell_type": "code",
   "execution_count": 120,
   "metadata": {},
   "outputs": [
    {
     "name": "stdout",
     "output_type": "stream",
     "text": [
      "[0 1 2 3 4 5 6 7 8 9]\n"
     ]
    }
   ],
   "source": [
    "#1. Create a 1D array of numbers from 0 to 9.\n",
    "arr=np.array([0,1,2,3,4,5,6,7,8,9])\n",
    "print(arr)"
   ]
  },
  {
   "cell_type": "code",
   "execution_count": 121,
   "metadata": {},
   "outputs": [
    {
     "name": "stdout",
     "output_type": "stream",
     "text": [
      "[[ True  True  True]\n",
      " [ True  True  True]\n",
      " [ True  True  True]]\n"
     ]
    }
   ],
   "source": [
    "#2. Create a 3×3 numpy array of all True’s\n",
    "x=np.ones(shape=(3,3),dtype=bool)\n",
    "print(x)"
   ]
  },
  {
   "cell_type": "code",
   "execution_count": 122,
   "metadata": {},
   "outputs": [
    {
     "name": "stdout",
     "output_type": "stream",
     "text": [
      "[1 3 5 7 9]\n"
     ]
    }
   ],
   "source": [
    "#3. Given an array as input, print only odd numbers as output\n",
    "idx=np.where(arr%2!=0)\n",
    "print(arr[idx])"
   ]
  },
  {
   "cell_type": "code",
   "execution_count": 123,
   "metadata": {},
   "outputs": [
    {
     "name": "stdout",
     "output_type": "stream",
     "text": [
      "[ 0 -2  2 -2  4 -2  6 -2  8 -2]\n"
     ]
    }
   ],
   "source": [
    "#4. Replace all odd numbers in arr with -2\n",
    "idx=np.where(arr%2!=0)\n",
    "for i in idx:\n",
    "    arr[i]=-2\n",
    "print(arr)"
   ]
  },
  {
   "cell_type": "code",
   "execution_count": 20,
   "metadata": {},
   "outputs": [
    {
     "name": "stdout",
     "output_type": "stream",
     "text": [
      "[[ 2 33  4]\n",
      " [ 3  4  5]] (2, 3)\n"
     ]
    }
   ],
   "source": [
    "#5. How to reshape an array?\n",
    "x=np.array([[2,33,4],[3,4,5]])\n",
    "print(x,x.shape)"
   ]
  },
  {
   "cell_type": "code",
   "execution_count": 21,
   "metadata": {},
   "outputs": [
    {
     "name": "stdout",
     "output_type": "stream",
     "text": [
      "[[ 2 33]\n",
      " [ 4  3]\n",
      " [ 4  5]] (3, 2)\n"
     ]
    }
   ],
   "source": [
    "y=x.reshape(3,2)\n",
    "print(y,y.shape)"
   ]
  },
  {
   "cell_type": "code",
   "execution_count": 23,
   "metadata": {},
   "outputs": [
    {
     "name": "stdout",
     "output_type": "stream",
     "text": [
      "[1 2 3 4] (4,) 1\n"
     ]
    }
   ],
   "source": [
    "#6. Convert a 1D array to a 2D array with 2 rows\n",
    "b=np.array([1,2,3,4])\n",
    "print(b,b.shape,b.ndim)"
   ]
  },
  {
   "cell_type": "code",
   "execution_count": 24,
   "metadata": {},
   "outputs": [
    {
     "name": "stdout",
     "output_type": "stream",
     "text": [
      "[[1]\n",
      " [2]\n",
      " [3]\n",
      " [4]] (4, 1) 2\n"
     ]
    }
   ],
   "source": [
    "b_=b.reshape(-1,1)\n",
    "print(b_,b_.shape,b_.ndim)"
   ]
  },
  {
   "cell_type": "code",
   "execution_count": 149,
   "metadata": {},
   "outputs": [
    {
     "name": "stdout",
     "output_type": "stream",
     "text": [
      "[1 3 4 5 7 8 9]\n"
     ]
    }
   ],
   "source": [
    "#7. Given an array  a  = [1,2,3,4,5,6,7,8,9] , create  new array b from a such that b includes all odd numbers and 4 multiples\n",
    "a=np.array([1,2,3,4,5,6,7,8,9])\n",
    "indx=np.where((a%2!=0)|(a%4==0))\n",
    "b=a[indx]\n",
    "print(b)\n"
   ]
  },
  {
   "cell_type": "code",
   "execution_count": 57,
   "metadata": {},
   "outputs": [
    {
     "name": "stdout",
     "output_type": "stream",
     "text": [
      "nan\n",
      "nan\n"
     ]
    }
   ],
   "source": [
    "#8. Given array, check if there are any null values and print them out. \n",
    "lst = np.array([1, 2,np.nan, 4, 5, 6,np.nan,9])\n",
    "for x in lst:\n",
    "    if np.isnan(x):\n",
    "        print(x)"
   ]
  },
  {
   "cell_type": "code",
   "execution_count": 63,
   "metadata": {},
   "outputs": [
    {
     "data": {
      "text/plain": [
       "array([1, 2, 0, 4, 5, 6, 0, 9])"
      ]
     },
     "execution_count": 63,
     "metadata": {},
     "output_type": "execute_result"
    }
   ],
   "source": [
    "#9. How to replace all missing values with 0 in a numpy array\n",
    "lst = np.array([1, 2,np.nan, 4, 5, 6,np.nan,9])\n",
    "lst[np.where(np.isnan(lst))]=0\n",
    "lst.astype(int)\n"
   ]
  },
  {
   "cell_type": "code",
   "execution_count": 68,
   "metadata": {},
   "outputs": [
    {
     "name": "stdout",
     "output_type": "stream",
     "text": [
      "The number  1  has occured  3  times\n",
      "The number  2  has occured  1  times\n",
      "The number  3  has occured  1  times\n",
      "The number  4  has occured  2  times\n"
     ]
    }
   ],
   "source": [
    "#10 How to find the count of each unique number in a NumPy array?\n",
    "number_list = np.array([1, 1, 2, 3, 4, 4, 1])\n",
    "unique,counts=np.unique(number_list,return_counts=True)\n",
    "for x,y in zip(unique,counts):\n",
    "    print(\"The number \",x,\" has occured \",y,\" times\")"
   ]
  },
  {
   "cell_type": "code",
   "execution_count": 79,
   "metadata": {},
   "outputs": [
    {
     "name": "stdout",
     "output_type": "stream",
     "text": [
      "[[ 2  4  6]\n",
      " [ 6  8 10]]\n",
      "Data type of the array x is: int32\n",
      "New Type:  <U11\n",
      "[['2' '4' '6']\n",
      " ['6' '8' '10']]\n"
     ]
    }
   ],
   "source": [
    "#11 How to convert a numeric to a categorical (text) array\n",
    "import numpy as np\n",
    "x = np.array([[2, 4, 6], [6, 8, 10]], np.int32)\n",
    "print(x)\n",
    "print(\"Data type of the array x is:\",x.dtype)\n",
    "y = x.astype(str)\n",
    "print(\"New Type: \",y.dtype)\n",
    "print(y)"
   ]
  },
  {
   "cell_type": "code",
   "execution_count": 93,
   "metadata": {},
   "outputs": [
    {
     "data": {
      "text/plain": [
       "array([100, 110, 112, 115, 119, 120, 125, 126, 130, 133, 135, 145, 147,\n",
       "       150, 154, 155, 160, 161, 165, 168, 170, 180, 182, 185, 189, 190,\n",
       "       195, 196, 200, 203, 205, 215, 217, 220, 224, 225, 230, 231, 235,\n",
       "       238, 240, 250, 252, 255, 259, 260, 265, 266, 270, 273, 275, 285,\n",
       "       287, 290, 294, 295])"
      ]
     },
     "execution_count": 93,
     "metadata": {},
     "output_type": "execute_result"
    }
   ],
   "source": [
    "#Write a program to print all numbers between 99 and 299 which are either divisible by 5 or 7.\n",
    "#Exclude the elements which are divisible by both. \n",
    "np_list=np.arange(99,299)\n",
    "np.array([x for x in np_list if((x%5==0 or x%7==0) and not(x%5==0 and x%7==0))])"
   ]
  },
  {
   "cell_type": "code",
   "execution_count": 107,
   "metadata": {},
   "outputs": [
    {
     "name": "stdout",
     "output_type": "stream",
     "text": [
      "[5 4 3 2 1]\n",
      "[5, 4, 3, 2, 1]\n"
     ]
    }
   ],
   "source": [
    "#Write a program to reverse an array\n",
    "np_ar=np.array([1,2,3,4,5])\n",
    "print(np_ar[::-1])\n",
    "\n",
    "np_ar_new=[]\n",
    "for i in np_ar:\n",
    "    np_ar_new.insert(0,i)\n",
    "print(np_ar_new)"
   ]
  },
  {
   "cell_type": "code",
   "execution_count": 108,
   "metadata": {},
   "outputs": [
    {
     "name": "stdout",
     "output_type": "stream",
     "text": [
      "[5, 4, 3, 2, 1]\n"
     ]
    }
   ],
   "source": [
    "np_ar_new=[]\n",
    "for i in range(1,len(np_ar)+1):\n",
    "    np_ar_new.append(np_ar[-i])\n",
    "print(np_ar_new)\n",
    "    "
   ]
  },
  {
   "cell_type": "code",
   "execution_count": null,
   "metadata": {},
   "outputs": [],
   "source": []
  }
 ],
 "metadata": {
  "kernelspec": {
   "display_name": "Python 3",
   "language": "python",
   "name": "python3"
  },
  "language_info": {
   "codemirror_mode": {
    "name": "ipython",
    "version": 3
   },
   "file_extension": ".py",
   "mimetype": "text/x-python",
   "name": "python",
   "nbconvert_exporter": "python",
   "pygments_lexer": "ipython3",
   "version": "3.7.1"
  }
 },
 "nbformat": 4,
 "nbformat_minor": 2
}
